{
  "nbformat": 4,
  "nbformat_minor": 0,
  "metadata": {
    "colab": {
      "name": "Workshop_1.ipynb",
      "provenance": []
    },
    "kernelspec": {
      "name": "python3",
      "display_name": "Python 3"
    },
    "language_info": {
      "name": "python"
    }
  },
  "cells": [
    {
      "cell_type": "code",
      "execution_count": null,
      "metadata": {
        "colab": {
          "base_uri": "https://localhost:8080/"
        },
        "id": "ujrscDX5IwRv",
        "outputId": "67ac7c52-5bc9-46fa-c319-74579add6de6"
      },
      "outputs": [
        {
          "output_type": "stream",
          "name": "stdout",
          "text": [
            "Collecting yfinance\n",
            "  Downloading yfinance-0.1.70-py2.py3-none-any.whl (26 kB)\n",
            "Collecting requests>=2.26\n",
            "  Downloading requests-2.27.1-py2.py3-none-any.whl (63 kB)\n",
            "\u001b[K     |████████████████████████████████| 63 kB 1.1 MB/s \n",
            "\u001b[?25hCollecting lxml>=4.5.1\n",
            "  Downloading lxml-4.8.0-cp37-cp37m-manylinux_2_17_x86_64.manylinux2014_x86_64.manylinux_2_24_x86_64.whl (6.4 MB)\n",
            "\u001b[K     |████████████████████████████████| 6.4 MB 23.2 MB/s \n",
            "\u001b[?25hRequirement already satisfied: numpy>=1.15 in /usr/local/lib/python3.7/dist-packages (from yfinance) (1.21.5)\n",
            "Requirement already satisfied: multitasking>=0.0.7 in /usr/local/lib/python3.7/dist-packages (from yfinance) (0.0.10)\n",
            "Requirement already satisfied: pandas>=0.24.0 in /usr/local/lib/python3.7/dist-packages (from yfinance) (1.3.5)\n",
            "Requirement already satisfied: python-dateutil>=2.7.3 in /usr/local/lib/python3.7/dist-packages (from pandas>=0.24.0->yfinance) (2.8.2)\n",
            "Requirement already satisfied: pytz>=2017.3 in /usr/local/lib/python3.7/dist-packages (from pandas>=0.24.0->yfinance) (2018.9)\n",
            "Requirement already satisfied: six>=1.5 in /usr/local/lib/python3.7/dist-packages (from python-dateutil>=2.7.3->pandas>=0.24.0->yfinance) (1.15.0)\n",
            "Requirement already satisfied: charset-normalizer~=2.0.0 in /usr/local/lib/python3.7/dist-packages (from requests>=2.26->yfinance) (2.0.12)\n",
            "Requirement already satisfied: certifi>=2017.4.17 in /usr/local/lib/python3.7/dist-packages (from requests>=2.26->yfinance) (2021.10.8)\n",
            "Requirement already satisfied: idna<4,>=2.5 in /usr/local/lib/python3.7/dist-packages (from requests>=2.26->yfinance) (2.10)\n",
            "Requirement already satisfied: urllib3<1.27,>=1.21.1 in /usr/local/lib/python3.7/dist-packages (from requests>=2.26->yfinance) (1.24.3)\n",
            "Installing collected packages: requests, lxml, yfinance\n",
            "  Attempting uninstall: requests\n",
            "    Found existing installation: requests 2.23.0\n",
            "    Uninstalling requests-2.23.0:\n",
            "      Successfully uninstalled requests-2.23.0\n",
            "  Attempting uninstall: lxml\n",
            "    Found existing installation: lxml 4.2.6\n",
            "    Uninstalling lxml-4.2.6:\n",
            "      Successfully uninstalled lxml-4.2.6\n",
            "\u001b[31mERROR: pip's dependency resolver does not currently take into account all the packages that are installed. This behaviour is the source of the following dependency conflicts.\n",
            "google-colab 1.0.0 requires requests~=2.23.0, but you have requests 2.27.1 which is incompatible.\n",
            "datascience 0.10.6 requires folium==0.2.1, but you have folium 0.8.3 which is incompatible.\u001b[0m\n",
            "Successfully installed lxml-4.8.0 requests-2.27.1 yfinance-0.1.70\n"
          ]
        }
      ],
      "source": [
        "# Установить jupyter/ collab и необходимые библиотеки \n",
        "!pip install yfinance"
      ]
    },
    {
      "cell_type": "code",
      "source": [
        "# Выбрать тикер акции\n",
        "import yfinance as yf\n",
        "tickerGoogle = \"GOOGL\"\n",
        "tickerYandex = \"YNDX\"\n",
        "\n",
        "# Получаем данные по тикерам\n",
        "googleData = yf.Ticker(tickerGoogle)\n",
        "yandexData = yf.Ticker(tickerYandex)\n",
        "\n",
        "# Получаем историю цен \n",
        "googleDf = googleData.history(period=\"max\")\n",
        "yandexDf = yandexData.history(period=\"max\")\n",
        "\n",
        "googleDf.Close.plot()\n",
        "yandexDf.Close.plot()"
      ],
      "metadata": {
        "colab": {
          "base_uri": "https://localhost:8080/",
          "height": 286
        },
        "id": "YEGfDilyI_TK",
        "outputId": "89b088f3-f594-41c1-ef25-aadfbd039f72"
      },
      "execution_count": null,
      "outputs": [
        {
          "output_type": "execute_result",
          "data": {
            "text/plain": [
              "<matplotlib.axes._subplots.AxesSubplot at 0x7fac7a5b8dd0>"
            ]
          },
          "metadata": {},
          "execution_count": 2
        },
        {
          "output_type": "display_data",
          "data": {
            "text/plain": [
              "<Figure size 432x288 with 1 Axes>"
            ],
            "image/png": "[encoded data removed]"
          },
          "metadata": {
            "needs_background": "light"
          }
        }
      ]
    },
    {
      "cell_type": "code",
      "source": [
        "# Построить линейную регрессию на загруженных данных\n",
        "# 1) Генерируем лаговые фичи\n",
        "predicted_window = 10\n",
        "prediction_columns_Google = [\"Close\"]\n",
        "# prediction_columns_Yandex = [\"Close\"]\n",
        "\n",
        "for i in range(1, predicted_window + 1):\n",
        "  col_name = f\"shift_{i}\"\n",
        "  prediction_columns_Google.append(col_name)\n",
        "  # prediction_columns_Yandex.append(col_name)\n",
        "\n",
        "  googleDf[col_name] = googleDf.Close.shift(i)\n",
        "  # yandexDf[col_name] = yandexDf.Close.shift(i)\n",
        "\n",
        "dataGoogle = googleDf[prediction_columns_Google]\n",
        "# dataYandex = yandexDf[prediction_columns_Yandex]\n",
        "\n",
        "# Так нужно\n",
        "dataGoogle = dataGoogle.dropna()\n",
        "dataGoogle.head()\n",
        "\n",
        "# dataYandex = dataYandex.dropna()\n",
        "# dataYandex.head()"
      ],
      "metadata": {
        "colab": {
          "base_uri": "https://localhost:8080/",
          "height": 238
        },
        "id": "hp__G9EyLEvt",
        "outputId": "b70fee94-d9f7-4e49-e1a1-66a35998a4b5"
      },
      "execution_count": null,
      "outputs": [
        {
          "output_type": "execute_result",
          "data": {
            "text/plain": [
              "                Close    shift_1    shift_2    shift_3    shift_4    shift_5  \\\n",
              "Date                                                                           \n",
              "2004-09-02  50.805805  50.175175  51.236237  51.056057  53.128128  54.009010   \n",
              "2004-09-03  50.055054  50.805805  50.175175  51.236237  51.056057  53.128128   \n",
              "2004-09-07  50.840839  50.055054  50.805805  50.175175  51.236237  51.056057   \n",
              "2004-09-08  51.201202  50.840839  50.055054  50.805805  50.175175  51.236237   \n",
              "2004-09-09  51.206207  51.201202  50.840839  50.055054  50.805805  50.175175   \n",
              "\n",
              "              shift_6    shift_7    shift_8    shift_9   shift_10  \n",
              "Date                                                               \n",
              "2004-09-02  53.053055  52.487488  54.754753  54.209209  50.220219  \n",
              "2004-09-03  54.009010  53.053055  52.487488  54.754753  54.209209  \n",
              "2004-09-07  53.128128  54.009010  53.053055  52.487488  54.754753  \n",
              "2004-09-08  51.056057  53.128128  54.009010  53.053055  52.487488  \n",
              "2004-09-09  51.236237  51.056057  53.128128  54.009010  53.053055  "
            ],
            "text/html": [
              "\n",
              "  <div id=\"df-bce2a2e4-9a4b-46e9-af03-198fb95e37c9\">\n",
              "    <div class=\"colab-df-container\">\n",
              "      <div>\n",
              "<style scoped>\n",
              "    .dataframe tbody tr th:only-of-type {\n",
              "        vertical-align: middle;\n",
              "    }\n",
              "\n",
              "    .dataframe tbody tr th {\n",
              "        vertical-align: top;\n",
              "    }\n",
              "\n",
              "    .dataframe thead th {\n",
              "        text-align: right;\n",
              "    }\n",
              "</style>\n",
              "<table border=\"1\" class=\"dataframe\">\n",
              "  <thead>\n",
              "    <tr style=\"text-align: right;\">\n",
              "      <th></th>\n",
              "      <th>Close</th>\n",
              "      <th>shift_1</th>\n",
              "      <th>shift_2</th>\n",
              "      <th>shift_3</th>\n",
              "      <th>shift_4</th>\n",
              "      <th>shift_5</th>\n",
              "      <th>shift_6</th>\n",
              "      <th>shift_7</th>\n",
              "      <th>shift_8</th>\n",
              "      <th>shift_9</th>\n",
              "      <th>shift_10</th>\n",
              "    </tr>\n",
              "    <tr>\n",
              "      <th>Date</th>\n",
              "      <th></th>\n",
              "      <th></th>\n",
              "      <th></th>\n",
              "      <th></th>\n",
              "      <th></th>\n",
              "      <th></th>\n",
              "      <th></th>\n",
              "      <th></th>\n",
              "      <th></th>\n",
              "      <th></th>\n",
              "      <th></th>\n",
              "    </tr>\n",
              "  </thead>\n",
              "  <tbody>\n",
              "    <tr>\n",
              "      <th>2004-09-02</th>\n",
              "      <td>50.805805</td>\n",
              "      <td>50.175175</td>\n",
              "      <td>51.236237</td>\n",
              "      <td>51.056057</td>\n",
              "      <td>53.128128</td>\n",
              "      <td>54.009010</td>\n",
              "      <td>53.053055</td>\n",
              "      <td>52.487488</td>\n",
              "      <td>54.754753</td>\n",
              "      <td>54.209209</td>\n",
              "      <td>50.220219</td>\n",
              "    </tr>\n",
              "    <tr>\n",
              "      <th>2004-09-03</th>\n",
              "      <td>50.055054</td>\n",
              "      <td>50.805805</td>\n",
              "      <td>50.175175</td>\n",
              "      <td>51.236237</td>\n",
              "      <td>51.056057</td>\n",
              "      <td>53.128128</td>\n",
              "      <td>54.009010</td>\n",
              "      <td>53.053055</td>\n",
              "      <td>52.487488</td>\n",
              "      <td>54.754753</td>\n",
              "      <td>54.209209</td>\n",
              "    </tr>\n",
              "    <tr>\n",
              "      <th>2004-09-07</th>\n",
              "      <td>50.840839</td>\n",
              "      <td>50.055054</td>\n",
              "      <td>50.805805</td>\n",
              "      <td>50.175175</td>\n",
              "      <td>51.236237</td>\n",
              "      <td>51.056057</td>\n",
              "      <td>53.128128</td>\n",
              "      <td>54.009010</td>\n",
              "      <td>53.053055</td>\n",
              "      <td>52.487488</td>\n",
              "      <td>54.754753</td>\n",
              "    </tr>\n",
              "    <tr>\n",
              "      <th>2004-09-08</th>\n",
              "      <td>51.201202</td>\n",
              "      <td>50.840839</td>\n",
              "      <td>50.055054</td>\n",
              "      <td>50.805805</td>\n",
              "      <td>50.175175</td>\n",
              "      <td>51.236237</td>\n",
              "      <td>51.056057</td>\n",
              "      <td>53.128128</td>\n",
              "      <td>54.009010</td>\n",
              "      <td>53.053055</td>\n",
              "      <td>52.487488</td>\n",
              "    </tr>\n",
              "    <tr>\n",
              "      <th>2004-09-09</th>\n",
              "      <td>51.206207</td>\n",
              "      <td>51.201202</td>\n",
              "      <td>50.840839</td>\n",
              "      <td>50.055054</td>\n",
              "      <td>50.805805</td>\n",
              "      <td>50.175175</td>\n",
              "      <td>51.236237</td>\n",
              "      <td>51.056057</td>\n",
              "      <td>53.128128</td>\n",
              "      <td>54.009010</td>\n",
              "      <td>53.053055</td>\n",
              "    </tr>\n",
              "  </tbody>\n",
              "</table>\n",
              "</div>\n",
              "      <button class=\"colab-df-convert\" onclick=\"convertToInteractive('df-bce2a2e4-9a4b-46e9-af03-198fb95e37c9')\"\n",
              "              title=\"Convert this dataframe to an interactive table.\"\n",
              "              style=\"display:none;\">\n",
              "        \n",
              "  <svg xmlns=\"http://www.w3.org/2000/svg\" height=\"24px\"viewBox=\"0 0 24 24\"\n",
              "       width=\"24px\">\n",
              "    <path d=\"M0 0h24v24H0V0z\" fill=\"none\"/>\n",
              "    <path d=\"M18.56 5.44l.94 2.06.94-2.06 2.06-.94-2.06-.94-.94-2.06-.94 2.06-2.06.94zm-11 1L8.5 8.5l.94-2.06 2.06-.94-2.06-.94L8.5 2.5l-.94 2.06-2.06.94zm10 10l.94 2.06.94-2.06 2.06-.94-2.06-.94-.94-2.06-.94 2.06-2.06.94z\"/><path d=\"M17.41 7.96l-1.37-1.37c-.4-.4-.92-.59-1.43-.59-.52 0-1.04.2-1.43.59L10.3 9.45l-7.72 7.72c-.78.78-.78 2.05 0 2.83L4 21.41c.39.39.9.59 1.41.59.51 0 1.02-.2 1.41-.59l7.78-7.78 2.81-2.81c.8-.78.8-2.07 0-2.86zM5.41 20L4 18.59l7.72-7.72 1.47 1.35L5.41 20z\"/>\n",
              "  </svg>\n",
              "      </button>\n",
              "      \n",
              "  <style>\n",
              "    .colab-df-container {\n",
              "      display:flex;\n",
              "      flex-wrap:wrap;\n",
              "      gap: 12px;\n",
              "    }\n",
              "\n",
              "    .colab-df-convert {\n",
              "      background-color: #E8F0FE;\n",
              "      border: none;\n",
              "      border-radius: 50%;\n",
              "      cursor: pointer;\n",
              "      display: none;\n",
              "      fill: #1967D2;\n",
              "      height: 32px;\n",
              "      padding: 0 0 0 0;\n",
              "      width: 32px;\n",
              "    }\n",
              "\n",
              "    .colab-df-convert:hover {\n",
              "      background-color: #E2EBFA;\n",
              "      box-shadow: 0px 1px 2px rgba(60, 64, 67, 0.3), 0px 1px 3px 1px rgba(60, 64, 67, 0.15);\n",
              "      fill: #174EA6;\n",
              "    }\n",
              "\n",
              "    [theme=dark] .colab-df-convert {\n",
              "      background-color: #3B4455;\n",
              "      fill: #D2E3FC;\n",
              "    }\n",
              "\n",
              "    [theme=dark] .colab-df-convert:hover {\n",
              "      background-color: #434B5C;\n",
              "      box-shadow: 0px 1px 3px 1px rgba(0, 0, 0, 0.15);\n",
              "      filter: drop-shadow(0px 1px 2px rgba(0, 0, 0, 0.3));\n",
              "      fill: #FFFFFF;\n",
              "    }\n",
              "  </style>\n",
              "\n",
              "      <script>\n",
              "        const buttonEl =\n",
              "          document.querySelector('#df-bce2a2e4-9a4b-46e9-af03-198fb95e37c9 button.colab-df-convert');\n",
              "        buttonEl.style.display =\n",
              "          google.colab.kernel.accessAllowed ? 'block' : 'none';\n",
              "\n",
              "        async function convertToInteractive(key) {\n",
              "          const element = document.querySelector('#df-bce2a2e4-9a4b-46e9-af03-198fb95e37c9');\n",
              "          const dataTable =\n",
              "            await google.colab.kernel.invokeFunction('convertToInteractive',\n",
              "                                                     [key], {});\n",
              "          if (!dataTable) return;\n",
              "\n",
              "          const docLinkHtml = 'Like what you see? Visit the ' +\n",
              "            '<a target=\"_blank\" href=https://colab.research.google.com/notebooks/data_table.ipynb>data table notebook</a>'\n",
              "            + ' to learn more about interactive tables.';\n",
              "          element.innerHTML = '';\n",
              "          dataTable['output_type'] = 'display_data';\n",
              "          await google.colab.output.renderOutput(dataTable, element);\n",
              "          const docLink = document.createElement('div');\n",
              "          docLink.innerHTML = docLinkHtml;\n",
              "          element.appendChild(docLink);\n",
              "        }\n",
              "      </script>\n",
              "    </div>\n",
              "  </div>\n",
              "  "
            ]
          },
          "metadata": {},
          "execution_count": 10
        }
      ]
    },
    {
      "cell_type": "code",
      "source": [
        "# Стандартное разбиение данных\n",
        "from sklearn.model_selection import train_test_split\n",
        "train_df, test_df = train_test_split(googleDf, test_size=0.33, random_state=42, shuffle=False)"
      ],
      "metadata": {
        "id": "Hl0TbzpdS7oo"
      },
      "execution_count": null,
      "outputs": []
    },
    {
      "cell_type": "code",
      "source": [
        "# 2) Строим линейную регрессию\n",
        "from sklearn.linear_model import LinearRegression\n",
        "from sklearn.metrics import mean_squared_error\n",
        "\n",
        "googleX = dataGoogle[prediction_columns_Google[:-1]].values\n",
        "googleY = dataGoogle[prediction_columns_Google[-1]].values.reshape(-1,1)\n",
        "\n",
        "x_train, x_test, y_train, y_test = train_test_split(googleX,googleY, test_size=0.33, random_state=42,shuffle=False)\n",
        "\n",
        "regressor = LinearRegression()\n",
        "regressor.fit(x_train, y_train)\n",
        "\n",
        "print(f\"MSE {mean_squared_error(regressor.predict(x_test), y_test)}\")"
      ],
      "metadata": {
        "colab": {
          "base_uri": "https://localhost:8080/"
        },
        "id": "V9wdaJIGOjDu",
        "outputId": "1cf0f5ec-5ec2-4ebf-98f3-3d3cf92025c7"
      },
      "execution_count": null,
      "outputs": [
        {
          "output_type": "stream",
          "name": "stdout",
          "text": [
            "Линейная регрессия 654.6623642029899\n"
          ]
        }
      ]
    },
    {
      "cell_type": "code",
      "source": [
        "googleData"
      ],
      "metadata": {
        "colab": {
          "base_uri": "https://localhost:8080/"
        },
        "id": "ev3UgSlcSpjy",
        "outputId": "013c1ef2-120c-4fcb-fdc6-3a91b1498d8c"
      },
      "execution_count": null,
      "outputs": [
        {
          "output_type": "execute_result",
          "data": {
            "text/plain": [
              "yfinance.Ticker object <GOOGL>"
            ]
          },
          "metadata": {},
          "execution_count": 14
        }
      ]
    },
    {
      "cell_type": "code",
      "source": [
        "# Оценить модель метриками MAE, MAPE\n",
        "from sklearn.metrics import mean_absolute_error, mean_absolute_percentage_error\n",
        "print(f\"MAE {mean_absolute_error(regressor.predict(x_test), y_test)}\")\n",
        "print(f\"MAPE {mean_absolute_percentage_error(regressor.predict(x_test), y_test)}\")"
      ],
      "metadata": {
        "colab": {
          "base_uri": "https://localhost:8080/"
        },
        "id": "pP7TgDFfUnFA",
        "outputId": "bdf1c9d4-8c05-4ebd-8170-6d88d4263ff7"
      },
      "execution_count": null,
      "outputs": [
        {
          "output_type": "stream",
          "name": "stdout",
          "text": [
            "MAE 16.181792816258266\n",
            "MAPE 0.011241673291611793\n"
          ]
        }
      ]
    },
    {
      "cell_type": "markdown",
      "source": [
        "Оценить модель метриками MAE, MAPE\n",
        "Попробовать различные методы преобразования данных\n",
        "Попробовать различный размер предиктивного окна\n",
        "\n",
        "```\n",
        "# This is formatted as code\n",
        "```\n",
        "\n",
        "\n"
      ],
      "metadata": {
        "id": "INOMTpD-JEPQ"
      }
    },
    {
      "cell_type": "code",
      "source": [
        "# Попробовать различные методы преобразования данных\n",
        "# - Преобразование бокса-кокса\n",
        "# import pandas as pd\n",
        "from scipy.stats import boxcox\n",
        "\n",
        "transformed, lambda_ = boxcox(dataGoogle[\"Close\"].values)\n",
        "dataGoogle[\"box_cox\"] = transformed\n",
        "dataGoogle.box_cox.plot() "
      ],
      "metadata": {
        "colab": {
          "base_uri": "https://localhost:8080/",
          "height": 286
        },
        "id": "DvUc5UjUVeoL",
        "outputId": "ce7f149d-2636-4d2d-944b-9ff7ff12103f"
      },
      "execution_count": null,
      "outputs": [
        {
          "output_type": "execute_result",
          "data": {
            "text/plain": [
              "<matplotlib.axes._subplots.AxesSubplot at 0x7fac6314f790>"
            ]
          },
          "metadata": {},
          "execution_count": 21
        },
        {
          "output_type": "display_data",
          "data": {
            "text/plain": [
              "<Figure size 432x288 with 1 Axes>"
            ],
            "image/png": "[encoded data removed]"
          },
          "metadata": {
            "needs_background": "light"
          }
        }
      ]
    },
    {
      "cell_type": "code",
      "source": [
        "# getDataByTickerAndSlidingWindow ГЕНЕРИТ ДАННЫЕ И и \n",
        "def getDataByTickerAndSlidingWindow(ticker, predicted_window):\n",
        "    # Получаем данные по тикерам\n",
        "    tikerData = yf.Ticker(ticker)\n",
        "\n",
        "    # Получаем историю цен \n",
        "    tikerDf = tikerData.history(period=\"max\")\n",
        "\n",
        "   # tikerDf.Close.plot()\n",
        "  \n",
        "    # 1) Генерируем лаговые фичи\n",
        "    # predicted_window = \n",
        "    prediction_columns = [\"Close\"]\n",
        "\n",
        "    for i in range(1, predicted_window + 1):\n",
        "        col_name = f\"shift_{i}\"\n",
        "        prediction_columns.append(col_name)\n",
        "\n",
        "        tikerDf[col_name] = tikerDf.Close.shift(i)\n",
        "\n",
        "    data = tikerDf[prediction_columns]\n",
        "    # dataYandex = yandexDf[prediction_columns_Yandex]\n",
        "\n",
        "    # Так нужно\n",
        "    data = data.dropna()\n",
        "    data.head()"
      ],
      "metadata": {
        "id": "cwELHHqSW0pV"
      },
      "execution_count": null,
      "outputs": []
    },
    {
      "cell_type": "code",
      "source": [
        "ynd10 = getDataByTickerAndSlidingWindow(\"YNDX\", 10)\n"
      ],
      "metadata": {
        "colab": {
          "base_uri": "https://localhost:8080/",
          "height": 272
        },
        "id": "y7BMHQODb3Jz",
        "outputId": "b838decb-dfcf-4ff4-da16-c048b81caffd"
      },
      "execution_count": null,
      "outputs": [
        {
          "output_type": "display_data",
          "data": {
            "text/plain": [
              "<Figure size 432x288 with 1 Axes>"
            ],
            "image/png": "[encoded data removed]"
          },
          "metadata": {
            "needs_background": "light"
          }
        }
      ]
    },
    {
      "cell_type": "code",
      "source": [
        "ynd20 = getDataByTickerAndSlidingWindow(\"YNDX\", 20)"
      ],
      "metadata": {
        "colab": {
          "base_uri": "https://localhost:8080/",
          "height": 272
        },
        "id": "09x6SVu5dWG7",
        "outputId": "41e1070f-ab88-4471-eff6-1777e1b546fe"
      },
      "execution_count": null,
      "outputs": [
        {
          "output_type": "display_data",
          "data": {
            "text/plain": [
              "<Figure size 432x288 with 1 Axes>"
            ],
            "image/png": "[encoded data removed]"
          },
          "metadata": {
            "needs_background": "light"
          }
        }
      ]
    },
    {
      "cell_type": "code",
      "source": [
        "ynd30 = getDataByTickerAndSlidingWindow(\"YNDX\", 30)"
      ],
      "metadata": {
        "colab": {
          "base_uri": "https://localhost:8080/",
          "height": 272
        },
        "id": "HEpx9UIYda03",
        "outputId": "f91292e0-c2de-40d7-f6d9-f56996101669"
      },
      "execution_count": null,
      "outputs": [
        {
          "output_type": "display_data",
          "data": {
            "text/plain": [
              "<Figure size 432x288 with 1 Axes>"
            ],
            "image/png": "[encoded data removed]"
          },
          "metadata": {
            "needs_background": "light"
          }
        }
      ]
    }
  ]
}